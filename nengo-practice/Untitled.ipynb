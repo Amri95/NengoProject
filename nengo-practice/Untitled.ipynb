{
 "cells": [
  {
   "cell_type": "code",
   "execution_count": null,
   "metadata": {},
   "outputs": [],
   "source": [
    "import librosa\n",
    "import librosa.display\n",
    "import IPython.display\n",
    "import numpy as np\n",
    "import matplotlib.pyplot as plt\n",
    "import matplotlib as mpl\n",
    "import matplotlib.font_manager as fm\n",
    " \n",
    "import tensorflow as tf\n",
    " \n",
    "%matplotlib inline\n",
    " \n",
    "audio_path = '4_3273.wav'\n",
    " \n",
    "y, sr = librosa.load(audio_path)\n",
    " \n",
    "plt.figure()\n",
    "plt.plot(y)"
   ]
  },
  {
   "cell_type": "code",
   "execution_count": null,
   "metadata": {},
   "outputs": [],
   "source": [
    "time_duration = int(librosa.get_duration(y=y, sr=sr) * 1000)\n",
    "data_length = y.shape[0]\n",
    "print(\"time duration: \" + str(time_duration) + \" ms\")\n",
    "print(\"sampling rate: \" + str(sr))\n",
    "print(\"data length: \" + str(data_length))"
   ]
  },
  {
   "cell_type": "code",
   "execution_count": null,
   "metadata": {},
   "outputs": [],
   "source": []
  }
 ],
 "metadata": {
  "kernelspec": {
   "display_name": "Python 3",
   "language": "python",
   "name": "python3"
  },
  "language_info": {
   "codemirror_mode": {
    "name": "ipython",
    "version": 3
   },
   "file_extension": ".py",
   "mimetype": "text/x-python",
   "name": "python",
   "nbconvert_exporter": "python",
   "pygments_lexer": "ipython3",
   "version": "3.5.2"
  }
 },
 "nbformat": 4,
 "nbformat_minor": 2
}
