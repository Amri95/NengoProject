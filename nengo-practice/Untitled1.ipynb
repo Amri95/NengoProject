{
 "cells": [
  {
   "cell_type": "code",
   "execution_count": 1,
   "metadata": {},
   "outputs": [],
   "source": [
    "import IPython.display\n",
    "import numpy as np\n",
    "import matplotlib.pyplot as plt\n",
    "import matplotlib as mpl\n",
    "import matplotlib.font_manager as fm\n",
    "\n",
    "import tensorflow as tf\n",
    "\n",
    "import nengo\n",
    "from nengo.utils.matplotlib import rasterplot\n",
    "from nengo.dists import Choice\n",
    "from nengo.utils.ensemble import tuning_curves\n",
    "\n",
    "import hgtk\n",
    " \n",
    "%matplotlib inline"
   ]
  },
  {
   "cell_type": "code",
   "execution_count": 2,
   "metadata": {},
   "outputs": [
    {
     "name": "stdout",
     "output_type": "stream",
     "text": [
      "('ㄱ', 'ㄲ', 'ㄴ', 'ㄷ', 'ㄸ', 'ㄹ', 'ㅁ', 'ㅂ', 'ㅃ', 'ㅅ', 'ㅆ', 'ㅇ', 'ㅈ', 'ㅉ', 'ㅊ', 'ㅋ', 'ㅌ', 'ㅍ', 'ㅎ')\n",
      "('ㅏ', 'ㅐ', 'ㅑ', 'ㅒ', 'ㅓ', 'ㅔ', 'ㅕ', 'ㅖ', 'ㅗ', 'ㅘ', 'ㅙ', 'ㅚ', 'ㅛ', 'ㅜ', 'ㅝ', 'ㅞ', 'ㅟ', 'ㅠ', 'ㅡ', 'ㅢ', 'ㅣ')\n",
      "('', 'ㄱ', 'ㄲ', 'ㄳ', 'ㄴ', 'ㄵ', 'ㄶ', 'ㄷ', 'ㄹ', 'ㄺ', 'ㄻ', 'ㄼ', 'ㄽ', 'ㄾ', 'ㄿ', 'ㅀ', 'ㅁ', 'ㅂ', 'ㅄ', 'ㅅ', 'ㅆ', 'ㅇ', 'ㅈ', 'ㅊ', 'ㅋ', 'ㅌ', 'ㅍ', 'ㅎ')\n"
     ]
    }
   ],
   "source": [
    "total_cho = hgtk.josa.CHO\n",
    "total_joong = hgtk.josa.JOONG\n",
    "total_jong = hgtk.josa.JONG\n",
    "print(total_cho)\n",
    "print(total_joong)\n",
    "print(total_jong)"
   ]
  },
  {
   "cell_type": "code",
   "execution_count": 3,
   "metadata": {},
   "outputs": [
    {
     "name": "stdout",
     "output_type": "stream",
     "text": [
      "ㅇㅏ ㄷㅓㅂㅣㅇ.. ㅈㅣㄴㅉㅏ ㅉㅏㅈㅡㅇㄴㅏㄴㅔㅇㅛ ㅁㅗㄱㅅㅗㄹㅣ\n",
      "\n",
      "[[0. 0. 0. ... 0. 0. 0.]\n",
      " [0. 0. 0. ... 0. 0. 0.]\n",
      " [0. 0. 0. ... 0. 0. 0.]\n",
      " ...\n",
      " [0. 0. 0. ... 0. 0. 0.]\n",
      " [0. 0. 0. ... 0. 0. 0.]\n",
      " [0. 0. 0. ... 0. 0. 0.]]\n",
      "19\n",
      "19\n",
      "68\n",
      "[0. 0. 0. 0. 0. 0. 0. 0. 0. 0. 0. 1. 0. 0. 0. 0. 0. 0. 0. 1. 0. 0. 0. 0.\n",
      " 0. 0. 0. 0. 0. 0. 0. 0. 0. 0. 0. 0. 0. 0. 0. 0. 1. 0. 0. 0. 0. 0. 0. 0.\n",
      " 0. 0. 0. 0. 0. 0. 0. 0. 0. 0. 0. 0. 0. 0. 0. 0. 0. 0. 0. 0.]\n"
     ]
    }
   ],
   "source": [
    "ori_sent = '아 더빙.. 진짜 짜증나네요 목소리'\n",
    "import hgtk\n",
    " \n",
    "jamo_sent = hgtk.text.decompose(ori_sent)\n",
    "jamo_sent = jamo_sent.replace('ᴥ', '')\n",
    "print(jamo_sent + '\\n')\n",
    "\n",
    "many_hot = np.zeros(len(total_cho + total_joong + total_jong))\n",
    "sent_hot = np.zeros((len(ori_sent),len(many_hot)))\n",
    "word_idx = 0\n",
    "\n",
    "for word in ori_sent:\n",
    "    #print(\"input_word: \" + str(word))\n",
    "    if(hgtk.checker.is_hangul(word)):\n",
    "        split_word = hgtk.letter.decompose(word)\n",
    "        cho_idx = 0\n",
    "        joong_idx = 0\n",
    "        jong_idx = 0\n",
    "        one_hot_cho = np.zeros(len(hgtk.josa.CHO))\n",
    "        one_hot_joong = np.zeros(len(hgtk.josa.JOONG))\n",
    "        one_hot_jong = np.zeros(len(hgtk.josa.JONG))\n",
    "        if(len(split_word) > 2):\n",
    "            for cho in total_cho:\n",
    "                if(cho == split_word[0]):\n",
    "                    one_hot_cho[cho_idx] = 1\n",
    "                    break\n",
    "                else:\n",
    "                    cho_idx+= 1\n",
    "            for joong in total_joong:\n",
    "                if(joong == split_word[1]):\n",
    "                    one_hot_joong[joong_idx] = 1\n",
    "                    break\n",
    "                else:\n",
    "                    joong_idx+= 1\n",
    "            for jong in total_jong:\n",
    "                if(jong == split_word[2]):\n",
    "                    one_hot_jong[jong_idx] = 1\n",
    "                    break\n",
    "                else:\n",
    "                    jong_idx+= 1\n",
    "        else:\n",
    "            for cho in total_cho:\n",
    "                if(cho == split_word[0]):\n",
    "                    one_hot_cho[cho_idx] = 1\n",
    "                    break\n",
    "                else:\n",
    "                    cho_idx+= 1\n",
    "            for joong in total_joong:\n",
    "                if(joong == split_word[1]):\n",
    "                    one_hot_joong[joong_idx] = 1\n",
    "                    break\n",
    "                else:\n",
    "                    joong_idx+= 1\n",
    "        many_hot = np.append(one_hot_cho, one_hot_joong)\n",
    "        many_hot = np.append(many_hot, one_hot_jong)\n",
    "        \n",
    "    else:\n",
    "        many_hot = np.zeros(len(total_cho + total_joong + total_jong))\n",
    "    sent_hot[word_idx] = many_hot\n",
    "    word_idx += 1\n",
    "\n",
    "\n",
    "print(sent_hot)\n",
    "print(len(sent_hot))\n",
    "print(len(ori_sent))\n",
    "print(len(sent_hot[0]))\n",
    "print(sent_hot[0])"
   ]
  },
  {
   "cell_type": "code",
   "execution_count": 4,
   "metadata": {},
   "outputs": [],
   "source": [
    "time_duration = 10"
   ]
  },
  {
   "cell_type": "code",
   "execution_count": null,
   "metadata": {},
   "outputs": [],
   "source": [
    "def sent_input(t):\n",
    "    ms = int(t * 1000)\n",
    "    char_num = int(ms/(time_duration / len(ori_sent))-1)\n",
    "    voice = sent_hot[char_num]\n",
    "    return voice"
   ]
  },
  {
   "cell_type": "code",
   "execution_count": 5,
   "metadata": {},
   "outputs": [],
   "source": [
    "def answer_input(t):\n",
    "    ms = int(t * 1000)\n",
    "    "
   ]
  },
  {
   "cell_type": "code",
   "execution_count": null,
   "metadata": {},
   "outputs": [],
   "source": []
  }
 ],
 "metadata": {
  "kernelspec": {
   "display_name": "Python 3",
   "language": "python",
   "name": "python3"
  },
  "language_info": {
   "codemirror_mode": {
    "name": "ipython",
    "version": 3
   },
   "file_extension": ".py",
   "mimetype": "text/x-python",
   "name": "python",
   "nbconvert_exporter": "python",
   "pygments_lexer": "ipython3",
   "version": "3.5.2"
  }
 },
 "nbformat": 4,
 "nbformat_minor": 2
}
