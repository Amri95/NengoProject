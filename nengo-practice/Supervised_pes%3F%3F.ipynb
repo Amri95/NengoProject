{
 "cells": [
  {
   "cell_type": "code",
   "execution_count": 1,
   "metadata": {},
   "outputs": [],
   "source": [
    "import numpy as np\n",
    "import matplotlib.pyplot as plt\n",
    "%matplotlib inline\n",
    " \n",
    "import nengo\n",
    "from nengo.dists import Choice\n",
    "from nengo.utils.ensemble import tuning_curves\n",
    "from nengo.utils.matplotlib import rasterplot\n",
    "from nengo.processes import WhiteSignal"
   ]
  },
  {
   "cell_type": "code",
   "execution_count": 2,
   "metadata": {},
   "outputs": [],
   "source": [
    "def input_one_hot(t):\n",
    "    if(t % 1 == 0):\n",
    "        return 1\n",
    "    else:\n",
    "        return 0"
   ]
  },
  {
   "cell_type": "code",
   "execution_count": 6,
   "metadata": {},
   "outputs": [],
   "source": [
    "model = nengo.Network()\n",
    "with model:\n",
    "    input_node = nengo.Node(output=input_one_hot)\n",
    "    pre_neuron = nengo.Ensemble(1, dimensions=1, max_rates = [100] * 1, intercepts=[0] * 1)\n",
    "    pre_neuron.encoders = Choice([[1]])\n",
    "    nengo.Connection(input_node, pre_neuron)\n",
    " \n",
    "    \n",
    "    noise = nengo.Node(WhiteSignal(50, high=10), size_out=1)\n",
    "    noise_neuron = nengo.Ensemble(1, dimensions=1, max_rates = [100] * 1, intercepts=[0] * 1)\n",
    "    noise_neuron.encoders = Choice([[1]])\n",
    "    \n",
    "    nengo.Connection(noise, noise_neuron)\n",
    "    \n",
    "    post_neuron = nengo.Ensemble(1, dimensions=1, max_rates = [100] * 1, intercepts=[0] * 1)\n",
    "    post_neuron.encoders = Choice([[1]])\n",
    "    \n",
    "    error = nengo.Ensemble(1, dimensions=1)\n",
    "        \n",
    "    nengo.Connection(pre_neuron, post_neuron, transform=1)\n",
    "    conn = nengo.Connection(noise_neuron, post_neuron, function=lambda x: np.random.random(1))\n",
    "    conn = nengo.Connection(noise_neuron, post_neuron, transform=1)\n",
    "    \n",
    "    nengo.Connection(post_neuron, error)\n",
    "    nengo.Connection(pre_neuron, error, transform=-1)\n",
    "    \n",
    "    conn.learning_rule_type = nengo.PES(learning_rate=0.001)\n",
    "    \n",
    "    nengo.Connection(error, conn.learning_rule)\n",
    "    \n",
    "    input_p = nengo.Probe(input_node)\n",
    "    noise_p = nengo.Probe(noise)\n",
    "    error_p = nengo.Probe(error)\n",
    "    pre_p = nengo.Probe(pre_neuron)\n",
    "    post_p = nengo.Probe(post_neuron)\n",
    "    noise_spike_p = nengo.Probe(noise_neuron.neurons)\n",
    "    pre_spike_p = nengo.Probe(pre_neuron.neurons)\n",
    "    post_spike_p = nengo.Probe(post_neuron.neurons)"
   ]
  },
  {
   "cell_type": "code",
   "execution_count": 14,
   "metadata": {},
   "outputs": [],
   "source": [
    "model = nengo.Network()\n",
    "with model:\n",
    "    input_node = nengo.Node(output=input_one_hot)\n",
    "    pre_neuron = nengo.Ensemble(1, dimensions=1, max_rates = [100] * 1, intercepts=[0] * 1)\n",
    "    pre_neuron.encoders = Choice([[1]])\n",
    "    nengo.Connection(input_node, pre_neuron)\n",
    " \n",
    "    \n",
    "    noise = nengo.Node(WhiteSignal(50, high=10), size_out=1)\n",
    "    noise_neuron = nengo.Ensemble(1, dimensions=1, max_rates = [100] * 1, intercepts=[0] * 1)\n",
    "    noise_neuron.encoders = Choice([[1]])\n",
    "    nengo.Connection(noise, noise_neuron)\n",
    "    \n",
    "    post_neuron = nengo.Ensemble(1, dimensions=1, max_rates = [100] * 1, intercepts=[0] * 1)\n",
    "    post_neuron.encoders = Choice([[1]])\n",
    "    \n",
    "    error = nengo.Ensemble(1, dimensions=1)\n",
    "    \n",
    " \n",
    "    nengo.Connection(pre_neuron, post_neuron, transform=1)\n",
    "    conn = nengo.Connection(noise_neuron, post_neuron, transform=1)\n",
    "    \n",
    "    nengo.Connection(post_neuron, error)\n",
    "    nengo.Connection(pre_neuron, error, transform=-1)\n",
    "    \n",
    "    conn.learning_rule_type = nengo.PES(learning_rate=0.001)\n",
    "    \n",
    "    nengo.Connection(error, conn.learning_rule)\n",
    "    \n",
    "    input_p = nengo.Probe(input_node)\n",
    "    noise_p = nengo.Probe(noise)\n",
    "    error_p = nengo.Probe(error)\n",
    "    pre_p = nengo.Probe(pre_neuron)\n",
    "    post_p = nengo.Probe(post_neuron)\n",
    "    noise_spike_p = nengo.Probe(noise_neuron.neurons)\n",
    "    pre_spike_p = nengo.Probe(pre_neuron.neurons)\n",
    "    post_spike_p = nengo.Probe(post_neuron.neurons)"
   ]
  },
  {
   "cell_type": "code",
   "execution_count": 15,
   "metadata": {},
   "outputs": [
    {
     "data": {
      "text/html": [
       "\n",
       "                <div id=\"1ec1e6c3-f52e-4526-8635-ec448ea21813\" style=\"\n",
       "                    width: 100%;\n",
       "                    border: 1px solid #cfcfcf;\n",
       "                    border-radius: 4px;\n",
       "                    text-align: center;\n",
       "                    position: relative;\">\n",
       "                  <div class=\"pb-text\" style=\"\n",
       "                      position: absolute;\n",
       "                      width: 100%;\">\n",
       "                    0%\n",
       "                  </div>\n",
       "                  <div class=\"pb-fill\" style=\"\n",
       "                      background-color: #bdd2e6;\n",
       "                      width: 0%;\">\n",
       "                    <style type=\"text/css\" scoped=\"scoped\">\n",
       "                        @keyframes pb-fill-anim {\n",
       "                            0% { background-position: 0 0; }\n",
       "                            100% { background-position: 100px 0; }\n",
       "                        }\n",
       "                    </style>\n",
       "                    &nbsp;\n",
       "                  </div>\n",
       "                </div>"
      ],
      "text/plain": [
       "HtmlProgressBar cannot be displayed. Please use the TerminalProgressBar. It can be enabled with `nengo.rc.set('progress', 'progress_bar', 'nengo.utils.progress.TerminalProgressBar')`."
      ]
     },
     "metadata": {},
     "output_type": "display_data"
    },
    {
     "data": {
      "application/javascript": [
       "\n",
       "              (function () {\n",
       "                  var root = document.getElementById('1ec1e6c3-f52e-4526-8635-ec448ea21813');\n",
       "                  var text = root.getElementsByClassName('pb-text')[0];\n",
       "                  var fill = root.getElementsByClassName('pb-fill')[0];\n",
       "\n",
       "                  text.innerHTML = 'Build finished in 0:00:01.';\n",
       "                  \n",
       "            fill.style.width = '100%';\n",
       "            fill.style.animation = 'pb-fill-anim 2s linear infinite';\n",
       "            fill.style.backgroundSize = '100px 100%';\n",
       "            fill.style.backgroundImage = 'repeating-linear-gradient(' +\n",
       "                '90deg, #bdd2e6, #edf2f8 40%, #bdd2e6 80%, #bdd2e6)';\n",
       "        \n",
       "                  \n",
       "                fill.style.animation = 'none';\n",
       "                fill.style.backgroundImage = 'none';\n",
       "            \n",
       "              })();\n",
       "        "
      ],
      "text/plain": [
       "<IPython.core.display.Javascript object>"
      ]
     },
     "metadata": {},
     "output_type": "display_data"
    },
    {
     "data": {
      "text/html": [
       "\n",
       "                <div id=\"77d83523-b2d7-4199-8a2e-c33f303fbea4\" style=\"\n",
       "                    width: 100%;\n",
       "                    border: 1px solid #cfcfcf;\n",
       "                    border-radius: 4px;\n",
       "                    text-align: center;\n",
       "                    position: relative;\">\n",
       "                  <div class=\"pb-text\" style=\"\n",
       "                      position: absolute;\n",
       "                      width: 100%;\">\n",
       "                    0%\n",
       "                  </div>\n",
       "                  <div class=\"pb-fill\" style=\"\n",
       "                      background-color: #bdd2e6;\n",
       "                      width: 0%;\">\n",
       "                    <style type=\"text/css\" scoped=\"scoped\">\n",
       "                        @keyframes pb-fill-anim {\n",
       "                            0% { background-position: 0 0; }\n",
       "                            100% { background-position: 100px 0; }\n",
       "                        }\n",
       "                    </style>\n",
       "                    &nbsp;\n",
       "                  </div>\n",
       "                </div>"
      ],
      "text/plain": [
       "HtmlProgressBar cannot be displayed. Please use the TerminalProgressBar. It can be enabled with `nengo.rc.set('progress', 'progress_bar', 'nengo.utils.progress.TerminalProgressBar')`."
      ]
     },
     "metadata": {},
     "output_type": "display_data"
    },
    {
     "data": {
      "application/javascript": [
       "\n",
       "              (function () {\n",
       "                  var root = document.getElementById('77d83523-b2d7-4199-8a2e-c33f303fbea4');\n",
       "                  var text = root.getElementsByClassName('pb-text')[0];\n",
       "                  var fill = root.getElementsByClassName('pb-fill')[0];\n",
       "\n",
       "                  text.innerHTML = 'Simulation finished in 0:00:11.';\n",
       "                  \n",
       "            if (100.0 > 0.) {\n",
       "                fill.style.transition = 'width 0.1s linear';\n",
       "            } else {\n",
       "                fill.style.transition = 'none';\n",
       "            }\n",
       "\n",
       "            fill.style.width = '100.0%';\n",
       "            fill.style.animation = 'none';\n",
       "            fill.style.backgroundImage = 'none'\n",
       "        \n",
       "                  \n",
       "                fill.style.animation = 'none';\n",
       "                fill.style.backgroundImage = 'none';\n",
       "            \n",
       "              })();\n",
       "        "
      ],
      "text/plain": [
       "<IPython.core.display.Javascript object>"
      ]
     },
     "metadata": {},
     "output_type": "display_data"
    }
   ],
   "source": [
    "with nengo.Simulator(model) as sim:\n",
    "    sim.run(10.0)"
   ]
  },
  {
   "cell_type": "code",
   "execution_count": 16,
   "metadata": {
    "scrolled": false
   },
   "outputs": [
    {
     "data": {
      "text/plain": [
       "(0, 10)"
      ]
     },
     "execution_count": 16,
     "metadata": {},
     "output_type": "execute_result"
    },
    {
     "data": {
      "image/png": "[encoded data removed]",
      "text/plain": [
       "<Figure size 864x720 with 3 Axes>"
      ]
     },
     "metadata": {
      "needs_background": "light"
     },
     "output_type": "display_data"
    }
   ],
   "source": [
    "plt.figure(figsize=(12, 10))\n",
    "plt.subplot(3, 1, 1)\n",
    "rasterplot(sim.trange(), sim.data[pre_spike_p])\n",
    "plt.xlim(0, 10)\n",
    "plt.subplot(3, 1, 2)\n",
    "rasterplot(sim.trange(), sim.data[noise_spike_p])\n",
    "plt.xlim(0, 10)\n",
    "plt.subplot(3, 1, 3)\n",
    "rasterplot(sim.trange(), sim.data[post_spike_p])\n",
    "plt.xlim(0, 10)\n"
   ]
  },
  {
   "cell_type": "code",
   "execution_count": null,
   "metadata": {},
   "outputs": [],
   "source": []
  },
  {
   "cell_type": "code",
   "execution_count": null,
   "metadata": {},
   "outputs": [],
   "source": []
  }
 ],
 "metadata": {
  "kernelspec": {
   "display_name": "Python 3",
   "language": "python",
   "name": "python3"
  },
  "language_info": {
   "codemirror_mode": {
    "name": "ipython",
    "version": 3
   },
   "file_extension": ".py",
   "mimetype": "text/x-python",
   "name": "python",
   "nbconvert_exporter": "python",
   "pygments_lexer": "ipython3",
   "version": "3.5.2"
  }
 },
 "nbformat": 4,
 "nbformat_minor": 2
}
